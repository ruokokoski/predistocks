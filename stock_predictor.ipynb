{
 "cells": [
  {
   "cell_type": "markdown",
   "id": "26185a9a",
   "metadata": {},
   "source": [
    "# Stock Predictor"
   ]
  },
  {
   "cell_type": "code",
   "execution_count": null,
   "id": "6b72236c",
   "metadata": {},
   "outputs": [],
   "source": [
    "import numpy as np\n",
    "import pandas as pd\n",
    "import matplotlib.pyplot as plt\n",
    "import yfinance as yf\n",
    "import ta\n",
    "from xgboost import XGBRegressor\n",
    "from sklearn.metrics import mean_absolute_error, root_mean_squared_error\n",
    "import optuna\n",
    "import plotly\n",
    "\n",
    "def load_stock_data(ticker: str, start: str = \"2025-01-01\", end: str = None):\n",
    "    \"\"\"\n",
    "    Loads daily OHLCV data for a given stock ticker from Yahoo Finance.\n",
    "\n",
    "    Args:\n",
    "        ticker (str): Stock ticker symbol (e.g., 'AAPL')\n",
    "        start (str): Start date for data (default: '2015-01-01')\n",
    "        end (str): End date for data (default: today)\n",
    "\n",
    "    Returns:\n",
    "        pd.DataFrame: DataFrame containing stock data\n",
    "    \"\"\"\n",
    "    print(f\"Fetching data for {ticker}...\")\n",
    "    data = yf.download(ticker, start=start, end=end, progress=False, auto_adjust=True)\n",
    "    data = data.rename(columns=str.lower)\n",
    "    return data"
   ]
  },
  {
   "cell_type": "code",
   "execution_count": null,
   "id": "f4e6cc0d",
   "metadata": {},
   "outputs": [],
   "source": [
    "def create_features(data: pd.DataFrame, lag: int = 30):\n",
    "    \"\"\"\n",
    "    Converts OHLCV data into supervised learning features for next-day prediction.\n",
    "\n",
    "    Args:\n",
    "        data (pd.DataFrame): Daily stock data with columns ['open','high','low','close','volume']\n",
    "        lag (int): Number of past days used as features\n",
    "\n",
    "    Returns:\n",
    "        X (pd.DataFrame): Feature matrix\n",
    "        y (pd.Series): Target values (next-day close)\n",
    "    \"\"\"\n",
    "    df = data.copy()\n",
    "\n",
    "    # Try if these improve prediction:\n",
    "    df[\"return\"] = df[\"close\"].pct_change()\n",
    "    df[\"ma_5\"] = df[\"close\"].rolling(5).mean()\n",
    "    df[\"ma_20\"] = df[\"close\"].rolling(20).mean()\n",
    "    df[\"momentum\"] = df[\"close\"] / df[\"close\"].shift(5) - 1\n",
    "    df[\"volatility\"] = df[\"return\"].rolling(10).std()\n",
    "\n",
    "    df[\"rsi\"] = ta.momentum.RSIIndicator(df[\"close\"], window=14).rsi()\n",
    "    macd = ta.trend.MACD(df[\"close\"])\n",
    "    df[\"macd\"] = macd.macd()\n",
    "    bb = ta.volatility.BollingerBands(df[\"close\"])\n",
    "    df[\"bb_high\"] = bb.bollinger_hband()\n",
    "    df[\"bb_low\"] = bb.bollinger_lband()\n",
    "\n",
    "    df = df.dropna()\n",
    "\n",
    "    features = []\n",
    "    targets = []\n",
    "    target_dates = []\n",
    "    feature_dates = []\n",
    "\n",
    "    for i in range(lag, len(df)):\n",
    "        window = df.iloc[i - lag:i]\n",
    "        next_close = df.iloc[i][\"close\"]\n",
    "        next_date = df.index[i]\n",
    "        window_dates = df.index[i - lag:i]\n",
    "\n",
    "        # flatten window data (close & volume)\n",
    "        feat = np.concatenate([\n",
    "            window[\"close\"].values.flatten(),\n",
    "            window[\"volume\"].values.flatten()\n",
    "        ])\n",
    "        features.append(feat)\n",
    "        targets.append(next_close)\n",
    "        target_dates.append(next_date)\n",
    "        feature_dates.append(window_dates)\n",
    "\n",
    "    X = np.array(features)\n",
    "    y = np.array(targets).flatten()\n",
    "    target_dates = np.array(target_dates)\n",
    "    return X, y, target_dates, feature_dates\n",
    "\n"
   ]
  },
  {
   "cell_type": "code",
   "execution_count": 24,
   "id": "4890509e",
   "metadata": {},
   "outputs": [],
   "source": [
    "def walk_forward_sliding_window(X, y, target_dates, train_window=200, step=1, params=None):\n",
    "    \"\"\"\n",
    "    Walk-forward validation with a sliding training window for next-day stock prediction.\n",
    "\n",
    "    Args:\n",
    "        X (np.ndarray): Feature matrix\n",
    "        y (np.ndarray): Target vector\n",
    "        target_dates (np.ndarray): Corresponding dates\n",
    "        train_window (int): Number of past samples used for training at each step\n",
    "        step (int): How many steps to move the window forward each iteration\n",
    "        params (dict): Hyperparameters for XGBRegressor\n",
    "\n",
    "    Returns:\n",
    "        results (pd.DataFrame): DataFrame with date, actual, predicted\n",
    "        metrics (dict): Overall MAE and RMSE\n",
    "    \"\"\"\n",
    "    if params is None:\n",
    "        params = {\n",
    "            \"n_estimators\": 600,\n",
    "            \"learning_rate\": 0.03,\n",
    "            \"max_depth\": 5,\n",
    "            \"min_child_weight\": 5,\n",
    "            \"subsample\": 0.8,\n",
    "            \"colsample_bytree\": 0.8,\n",
    "            \"gamma\": 0.2,\n",
    "            \"reg_lambda\": 2.0,\n",
    "            \"reg_alpha\": 0.5,\n",
    "            \"objective\": \"reg:squarederror\",\n",
    "            \"eval_metric\": \"mae\",\n",
    "            \"random_state\": 42,\n",
    "        }\n",
    "\n",
    "    n_samples = len(X)\n",
    "    predictions = []\n",
    "    actuals = []\n",
    "    dates = []\n",
    "\n",
    "    start_idx = train_window\n",
    "    for i in range(start_idx, n_samples, step):\n",
    "        train_idx = slice(i - train_window, i)\n",
    "        test_idx = i\n",
    "\n",
    "        X_train, y_train = X[train_idx], y[train_idx]\n",
    "        X_test, y_test = X[test_idx:test_idx+1], y[test_idx:test_idx+1]\n",
    "\n",
    "        model = XGBRegressor(**params)\n",
    "        model.fit(X_train, y_train)\n",
    "\n",
    "        y_pred = model.predict(X_test)\n",
    "\n",
    "        predictions.append(y_pred[0])\n",
    "        actuals.append(y_test[0])\n",
    "        dates.append(target_dates[test_idx])\n",
    "\n",
    "    results = pd.DataFrame({\n",
    "        \"date\": dates,\n",
    "        \"actual\": actuals,\n",
    "        \"predicted\": predictions\n",
    "    }).set_index(\"date\")\n",
    "\n",
    "    mae = mean_absolute_error(results[\"actual\"], results[\"predicted\"])\n",
    "    rmse = root_mean_squared_error(results[\"actual\"], results[\"predicted\"])\n",
    "    mape = np.mean(np.abs((results[\"actual\"] - results[\"predicted\"]) / results[\"actual\"])) * 100\n",
    "\n",
    "    # Directional Accuracy (DA)\n",
    "    actual_change = np.sign(results[\"actual\"].diff())\n",
    "    predicted_change = np.sign(results[\"predicted\"].diff())\n",
    "    da = np.mean(actual_change[1:] == predicted_change[1:]) * 100\n",
    "\n",
    "    metrics = {\n",
    "        \"MAE\": mae,\n",
    "        \"RMSE\": rmse,\n",
    "        \"MAPE\": mape,\n",
    "        \"Directional_Accuracy\": da\n",
    "    }\n",
    "\n",
    "    print(f\"\\nWalk-forward (sliding window) metrics:\")\n",
    "    print(f\"MAE:  {mae:.4f}\")\n",
    "    print(f\"RMSE: {rmse:.4f}\")\n",
    "    print(f\"MAPE: {mape:.2f}%\")\n",
    "    print(f\"DA:   {da:.2f}%\")\n",
    "\n",
    "    return results, metrics"
   ]
  },
  {
   "cell_type": "code",
   "execution_count": 25,
   "id": "b9081f91",
   "metadata": {},
   "outputs": [],
   "source": [
    "def optimize_window_sizes(data, lag_values, train_window_values, ticker=\"MSFT\"):\n",
    "    \"\"\"\n",
    "    Simple grid search over lag and train_window sizes using walk-forward validation.\n",
    "\n",
    "    Args:\n",
    "        data (pd.DataFrame): Stock data (OHLCV)\n",
    "        lag_values (list): Candidate lag values (e.g. [5, 10, 20, 30])\n",
    "        train_window_values (list): Candidate train_window sizes (e.g. [50, 100, 200])\n",
    "        ticker (str): Ticker symbol for reporting\n",
    "\n",
    "    Returns:\n",
    "        pd.DataFrame: Results sorted by MAE\n",
    "    \"\"\"\n",
    "    results_summary = []\n",
    "\n",
    "    for lag in lag_values:\n",
    "        X, y, target_dates, _ = create_features(data, lag)\n",
    "        for tw in train_window_values:\n",
    "            if tw >= len(X) // 2:\n",
    "                continue\n",
    "            print(f\"\\nTesting lag={lag}, train_window={tw}...\")\n",
    "            try:\n",
    "                _, metrics = walk_forward_sliding_window(X, y, target_dates, train_window=tw)\n",
    "                results_summary.append({\n",
    "                    \"lag\": lag,\n",
    "                    \"train_window\": tw,\n",
    "                    **metrics\n",
    "                })\n",
    "            except Exception as e:\n",
    "                print(f\"  ❌ Failed for lag={lag}, train_window={tw}: {e}\")\n",
    "\n",
    "    df_results = pd.DataFrame(results_summary)\n",
    "    df_results = df_results.sort_values(\"MAE\")\n",
    "    print(\"\\n=== Optimization Results (sorted by MAE) ===\")\n",
    "    print(df_results.head(20))\n",
    "    return df_results"
   ]
  },
  {
   "cell_type": "code",
   "execution_count": 26,
   "id": "79879571",
   "metadata": {},
   "outputs": [],
   "source": [
    "def plot_walk_forward_results(results: pd.DataFrame, ticker: str = \"MSFT\"):\n",
    "    \"\"\"\n",
    "    Plots walk-forward prediction results:\n",
    "    - Actual vs predicted prices\n",
    "    - Prediction error over time\n",
    "\n",
    "    Args:\n",
    "        results (pd.DataFrame): DataFrame with 'actual' and 'predicted' columns indexed by date\n",
    "        ticker (str): Stock ticker for title\n",
    "    \"\"\"\n",
    "    fig, ax = plt.subplots(2, 1, figsize=(12, 8), sharex=True,\n",
    "                           gridspec_kw={'height_ratios': [3, 1]})\n",
    "\n",
    "    ax[0].plot(results.index, results[\"actual\"], label=\"Actual\", color=\"black\")\n",
    "    ax[0].plot(results.index, results[\"predicted\"], label=\"Predicted\", color=\"red\", alpha=0.7)\n",
    "    ax[0].set_ylabel(\"Close Price\")\n",
    "    ax[0].set_title(f\"{ticker} — Next-Day Close Prediction (Walk-Forward, Sliding Window)\")\n",
    "    ax[0].legend(loc=\"upper left\")\n",
    "    ax[0].grid(True, linestyle=\"--\", alpha=0.4)\n",
    "\n",
    "    errors = results[\"predicted\"] - results[\"actual\"]\n",
    "    ax[1].plot(results.index, errors, color=\"blue\", alpha=0.6)\n",
    "    ax[1].axhline(0, color=\"black\", linewidth=1)\n",
    "    ax[1].set_ylabel(\"Prediction Error\")\n",
    "    ax[1].set_xlabel(\"Date\")\n",
    "    ax[1].grid(True, linestyle=\"--\", alpha=0.4)\n",
    "\n",
    "    plt.tight_layout()\n",
    "    plt.show()"
   ]
  },
  {
   "cell_type": "code",
   "execution_count": 27,
   "id": "62484a5d",
   "metadata": {},
   "outputs": [],
   "source": [
    "def plot_sample(X: np.ndarray, y: np.ndarray, target_dates: np.ndarray, feature_dates: list, \n",
    "                sample_idx: int = 0, lag: int = 30, ticker: str = \"MSFT\"):\n",
    "    \"\"\"\n",
    "    Plots the feature vector (closing prices and volumes) for a given sample,\n",
    "    and shows the next-day target price.\n",
    "\n",
    "    Args:\n",
    "        X (np.ndarray): Feature matrix (n_samples, lookback*2)\n",
    "        y (np.ndarray): Target array (n_samples,)\n",
    "        sample_idx (int): Index of the sample to visualize\n",
    "        lookback (int): Number of past days used in features\n",
    "        ticker (str): Stock ticker for title\n",
    "    \"\"\"\n",
    "    first_features = X[sample_idx]\n",
    "    first_target = y[sample_idx]\n",
    "    target_date = target_dates[sample_idx]\n",
    "    window_dates = feature_dates[sample_idx]\n",
    "\n",
    "    closes = first_features[:lag]\n",
    "    volumes = first_features[lag:]\n",
    "\n",
    "    fig, ax1 = plt.subplots(figsize=(10, 5))\n",
    "    \n",
    "    color = 'tab:blue'\n",
    "    ax1.set_xlabel('Date')\n",
    "    ax1.set_ylabel('Close Price', color=color)\n",
    "    ax1.plot(window_dates, closes, marker='o', color=color, label='Past closes')\n",
    "    ax1.scatter(target_date, first_target, color='red', label='Next day target')\n",
    "    ax1.tick_params(axis='y', labelcolor=color)\n",
    "\n",
    "    ax2 = ax1.twinx()\n",
    "    color = 'tab:green'\n",
    "    ax2.set_ylabel('Volume', color=color)\n",
    "    ax2.bar(window_dates, volumes, alpha=0.3, color=color, label='Past volumes')\n",
    "    ax2.tick_params(axis='y', labelcolor=color)\n",
    "\n",
    "    fig.tight_layout()\n",
    "    ax1.legend(loc='upper left')\n",
    "    ax2.legend(loc='upper right')\n",
    "    plt.title(f'{ticker} - Sample {sample_idx} features (closes + volumes) vs. next-day target')\n",
    "    plt.show()\n",
    "\n",
    "    "
   ]
  },
  {
   "cell_type": "code",
   "execution_count": 28,
   "id": "03b76de9",
   "metadata": {},
   "outputs": [
    {
     "name": "stdout",
     "output_type": "stream",
     "text": [
      "Fetching data for MSFT...\n",
      "\n",
      "Testing lag=2, train_window=40...\n",
      "\n",
      "Walk-forward (sliding window) metrics:\n",
      "MAE:  6.0025\n",
      "RMSE: 7.8741\n",
      "MAPE: 1.54%\n",
      "DA:   50.84%\n",
      "\n",
      "Testing lag=2, train_window=50...\n",
      "\n",
      "Walk-forward (sliding window) metrics:\n",
      "MAE:  5.9723\n",
      "RMSE: 7.9385\n",
      "MAPE: 1.52%\n",
      "DA:   51.63%\n",
      "\n",
      "Testing lag=2, train_window=60...\n",
      "\n",
      "Walk-forward (sliding window) metrics:\n",
      "MAE:  5.9111\n",
      "RMSE: 7.7915\n",
      "MAPE: 1.50%\n",
      "DA:   50.08%\n",
      "\n",
      "Testing lag=2, train_window=80...\n",
      "\n",
      "Walk-forward (sliding window) metrics:\n",
      "MAE:  5.6231\n",
      "RMSE: 7.4023\n",
      "MAPE: 1.40%\n",
      "DA:   49.27%\n",
      "\n",
      "Testing lag=2, train_window=100...\n",
      "\n",
      "Walk-forward (sliding window) metrics:\n",
      "MAE:  5.4985\n",
      "RMSE: 7.2859\n",
      "MAPE: 1.36%\n",
      "DA:   48.74%\n",
      "\n",
      "Testing lag=2, train_window=120...\n",
      "\n",
      "Walk-forward (sliding window) metrics:\n",
      "MAE:  5.4371\n",
      "RMSE: 7.1883\n",
      "MAPE: 1.33%\n",
      "DA:   48.00%\n",
      "\n",
      "Testing lag=2, train_window=150...\n",
      "\n",
      "Walk-forward (sliding window) metrics:\n",
      "MAE:  5.4743\n",
      "RMSE: 7.1727\n",
      "MAPE: 1.32%\n",
      "DA:   48.44%\n",
      "\n",
      "Testing lag=3, train_window=40...\n",
      "\n",
      "Walk-forward (sliding window) metrics:\n",
      "MAE:  5.9485\n",
      "RMSE: 7.7471\n",
      "MAPE: 1.52%\n",
      "DA:   48.78%\n",
      "\n",
      "Testing lag=3, train_window=50...\n",
      "\n",
      "Walk-forward (sliding window) metrics:\n",
      "MAE:  5.9049\n",
      "RMSE: 7.7961\n",
      "MAPE: 1.50%\n",
      "DA:   49.38%\n",
      "\n",
      "Testing lag=3, train_window=60...\n",
      "\n",
      "Walk-forward (sliding window) metrics:\n",
      "MAE:  5.8114\n",
      "RMSE: 7.6680\n",
      "MAPE: 1.47%\n",
      "DA:   49.37%\n",
      "\n",
      "Testing lag=3, train_window=80...\n",
      "\n",
      "Walk-forward (sliding window) metrics:\n",
      "MAE:  5.5732\n",
      "RMSE: 7.2485\n",
      "MAPE: 1.39%\n",
      "DA:   50.98%\n",
      "\n",
      "Testing lag=3, train_window=100...\n",
      "\n",
      "Walk-forward (sliding window) metrics:\n",
      "MAE:  5.5237\n",
      "RMSE: 7.2782\n",
      "MAPE: 1.36%\n",
      "DA:   49.83%\n",
      "\n",
      "Testing lag=3, train_window=120...\n",
      "\n",
      "Walk-forward (sliding window) metrics:\n",
      "MAE:  5.4814\n",
      "RMSE: 7.1925\n",
      "MAPE: 1.35%\n",
      "DA:   48.08%\n",
      "\n",
      "Testing lag=3, train_window=150...\n",
      "\n",
      "Walk-forward (sliding window) metrics:\n",
      "MAE:  5.4257\n",
      "RMSE: 7.1412\n",
      "MAPE: 1.31%\n",
      "DA:   49.26%\n",
      "\n",
      "Testing lag=4, train_window=40...\n",
      "\n",
      "Walk-forward (sliding window) metrics:\n",
      "MAE:  5.9436\n",
      "RMSE: 7.7360\n",
      "MAPE: 1.52%\n",
      "DA:   48.24%\n",
      "\n",
      "Testing lag=4, train_window=50...\n",
      "\n",
      "Walk-forward (sliding window) metrics:\n",
      "MAE:  5.9082\n",
      "RMSE: 7.7534\n",
      "MAPE: 1.50%\n",
      "DA:   49.14%\n",
      "\n",
      "Testing lag=4, train_window=60...\n",
      "\n",
      "Walk-forward (sliding window) metrics:\n",
      "MAE:  5.8195\n",
      "RMSE: 7.6861\n",
      "MAPE: 1.47%\n",
      "DA:   48.50%\n",
      "\n",
      "Testing lag=4, train_window=80...\n",
      "\n",
      "Walk-forward (sliding window) metrics:\n",
      "MAE:  5.6190\n",
      "RMSE: 7.2905\n",
      "MAPE: 1.40%\n",
      "DA:   48.29%\n",
      "\n",
      "Testing lag=4, train_window=100...\n",
      "\n",
      "Walk-forward (sliding window) metrics:\n",
      "MAE:  5.5807\n",
      "RMSE: 7.3242\n",
      "MAPE: 1.38%\n",
      "DA:   48.74%\n",
      "\n",
      "Testing lag=4, train_window=120...\n",
      "\n",
      "Walk-forward (sliding window) metrics:\n",
      "MAE:  5.4926\n",
      "RMSE: 7.1835\n",
      "MAPE: 1.35%\n",
      "DA:   48.52%\n",
      "\n",
      "Testing lag=4, train_window=150...\n",
      "\n",
      "Walk-forward (sliding window) metrics:\n",
      "MAE:  5.5465\n",
      "RMSE: 7.2417\n",
      "MAPE: 1.34%\n",
      "DA:   47.70%\n",
      "\n",
      "Testing lag=5, train_window=40...\n",
      "\n",
      "Walk-forward (sliding window) metrics:\n",
      "MAE:  5.8565\n",
      "RMSE: 7.6458\n",
      "MAPE: 1.50%\n",
      "DA:   48.31%\n",
      "\n",
      "Testing lag=5, train_window=50...\n",
      "\n",
      "Walk-forward (sliding window) metrics:\n",
      "MAE:  5.8190\n",
      "RMSE: 7.7074\n",
      "MAPE: 1.48%\n",
      "DA:   47.66%\n",
      "\n",
      "Testing lag=5, train_window=60...\n",
      "\n",
      "Walk-forward (sliding window) metrics:\n",
      "MAE:  5.8139\n",
      "RMSE: 7.6934\n",
      "MAPE: 1.47%\n",
      "DA:   49.68%\n",
      "\n",
      "Testing lag=5, train_window=80...\n",
      "\n",
      "Walk-forward (sliding window) metrics:\n",
      "MAE:  5.5302\n",
      "RMSE: 7.2077\n",
      "MAPE: 1.38%\n",
      "DA:   49.51%\n",
      "\n",
      "Testing lag=5, train_window=100...\n",
      "\n",
      "Walk-forward (sliding window) metrics:\n",
      "MAE:  5.5394\n",
      "RMSE: 7.2347\n",
      "MAPE: 1.36%\n",
      "DA:   48.82%\n",
      "\n",
      "Testing lag=5, train_window=120...\n",
      "\n",
      "Walk-forward (sliding window) metrics:\n",
      "MAE:  5.5485\n",
      "RMSE: 7.2305\n",
      "MAPE: 1.36%\n",
      "DA:   49.13%\n",
      "\n",
      "Testing lag=5, train_window=150...\n",
      "\n",
      "Walk-forward (sliding window) metrics:\n",
      "MAE:  5.5773\n",
      "RMSE: 7.2837\n",
      "MAPE: 1.35%\n",
      "DA:   49.26%\n",
      "\n",
      "Testing lag=6, train_window=40...\n",
      "\n",
      "Walk-forward (sliding window) metrics:\n",
      "MAE:  5.9194\n",
      "RMSE: 7.7618\n",
      "MAPE: 1.51%\n",
      "DA:   48.39%\n",
      "\n",
      "Testing lag=6, train_window=50...\n",
      "\n",
      "Walk-forward (sliding window) metrics:\n",
      "MAE:  5.8565\n",
      "RMSE: 7.8038\n",
      "MAPE: 1.49%\n",
      "DA:   48.36%\n",
      "\n",
      "Testing lag=6, train_window=60...\n",
      "\n",
      "Walk-forward (sliding window) metrics:\n",
      "MAE:  5.8657\n",
      "RMSE: 7.7599\n",
      "MAPE: 1.48%\n",
      "DA:   49.45%\n",
      "\n",
      "Testing lag=6, train_window=80...\n",
      "\n",
      "Walk-forward (sliding window) metrics:\n",
      "MAE:  5.5449\n",
      "RMSE: 7.2285\n",
      "MAPE: 1.38%\n",
      "DA:   49.26%\n",
      "\n",
      "Testing lag=6, train_window=100...\n",
      "\n",
      "Walk-forward (sliding window) metrics:\n",
      "MAE:  5.6471\n",
      "RMSE: 7.3266\n",
      "MAPE: 1.39%\n",
      "DA:   49.41%\n",
      "\n",
      "Testing lag=6, train_window=120...\n",
      "\n",
      "Walk-forward (sliding window) metrics:\n",
      "MAE:  5.5448\n",
      "RMSE: 7.2280\n",
      "MAPE: 1.36%\n",
      "DA:   49.39%\n",
      "\n",
      "Testing lag=6, train_window=150...\n",
      "\n",
      "Walk-forward (sliding window) metrics:\n",
      "MAE:  5.5576\n",
      "RMSE: 7.2379\n",
      "MAPE: 1.34%\n",
      "DA:   49.54%\n",
      "\n",
      "Testing lag=7, train_window=40...\n",
      "\n",
      "Walk-forward (sliding window) metrics:\n",
      "MAE:  5.8863\n",
      "RMSE: 7.6964\n",
      "MAPE: 1.51%\n",
      "DA:   49.08%\n",
      "\n",
      "Testing lag=7, train_window=50...\n",
      "\n",
      "Walk-forward (sliding window) metrics:\n",
      "MAE:  5.9090\n",
      "RMSE: 7.8118\n",
      "MAPE: 1.50%\n",
      "DA:   48.59%\n",
      "\n",
      "Testing lag=7, train_window=60...\n",
      "\n",
      "Walk-forward (sliding window) metrics:\n",
      "MAE:  5.8967\n",
      "RMSE: 7.7932\n",
      "MAPE: 1.49%\n",
      "DA:   49.05%\n",
      "\n",
      "Testing lag=7, train_window=80...\n",
      "\n",
      "Walk-forward (sliding window) metrics:\n",
      "MAE:  5.5462\n",
      "RMSE: 7.2235\n",
      "MAPE: 1.38%\n",
      "DA:   48.52%\n",
      "\n",
      "Testing lag=7, train_window=100...\n",
      "\n",
      "Walk-forward (sliding window) metrics:\n",
      "MAE:  5.6802\n",
      "RMSE: 7.2973\n",
      "MAPE: 1.40%\n",
      "DA:   48.47%\n",
      "\n",
      "Testing lag=7, train_window=120...\n",
      "\n",
      "Walk-forward (sliding window) metrics:\n",
      "MAE:  5.5995\n",
      "RMSE: 7.2251\n",
      "MAPE: 1.37%\n",
      "DA:   48.07%\n",
      "\n",
      "Testing lag=7, train_window=150...\n",
      "\n",
      "Walk-forward (sliding window) metrics:\n",
      "MAE:  5.5147\n",
      "RMSE: 7.1644\n",
      "MAPE: 1.33%\n",
      "DA:   48.33%\n",
      "\n",
      "Testing lag=10, train_window=40...\n",
      "\n",
      "Walk-forward (sliding window) metrics:\n",
      "MAE:  5.9073\n",
      "RMSE: 7.6449\n",
      "MAPE: 1.51%\n",
      "DA:   49.61%\n",
      "\n",
      "Testing lag=10, train_window=50...\n",
      "\n",
      "Walk-forward (sliding window) metrics:\n",
      "MAE:  5.9410\n",
      "RMSE: 7.8776\n",
      "MAPE: 1.51%\n",
      "DA:   48.67%\n",
      "\n",
      "Testing lag=10, train_window=60...\n",
      "\n",
      "Walk-forward (sliding window) metrics:\n",
      "MAE:  5.8784\n",
      "RMSE: 7.7980\n",
      "MAPE: 1.48%\n",
      "DA:   48.01%\n",
      "\n",
      "Testing lag=10, train_window=80...\n",
      "\n",
      "Walk-forward (sliding window) metrics:\n",
      "MAE:  5.5589\n",
      "RMSE: 7.2579\n",
      "MAPE: 1.38%\n",
      "DA:   51.57%\n",
      "\n",
      "Testing lag=10, train_window=100...\n",
      "\n",
      "Walk-forward (sliding window) metrics:\n",
      "MAE:  5.6033\n",
      "RMSE: 7.3007\n",
      "MAPE: 1.38%\n",
      "DA:   49.23%\n",
      "\n",
      "Testing lag=10, train_window=120...\n",
      "\n",
      "Walk-forward (sliding window) metrics:\n",
      "MAE:  5.6044\n",
      "RMSE: 7.1939\n",
      "MAPE: 1.37%\n",
      "DA:   46.21%\n",
      "\n",
      "Testing lag=10, train_window=150...\n",
      "\n",
      "Walk-forward (sliding window) metrics:\n",
      "MAE:  5.5900\n",
      "RMSE: 7.1782\n",
      "MAPE: 1.35%\n",
      "DA:   46.93%\n",
      "\n",
      "Testing lag=15, train_window=40...\n",
      "\n",
      "Walk-forward (sliding window) metrics:\n",
      "MAE:  5.9079\n",
      "RMSE: 7.7291\n",
      "MAPE: 1.51%\n",
      "DA:   46.73%\n",
      "\n",
      "Testing lag=15, train_window=50...\n",
      "\n",
      "Walk-forward (sliding window) metrics:\n",
      "MAE:  5.9582\n",
      "RMSE: 7.9147\n",
      "MAPE: 1.51%\n",
      "DA:   48.10%\n",
      "\n",
      "Testing lag=15, train_window=60...\n",
      "\n",
      "Walk-forward (sliding window) metrics:\n",
      "MAE:  5.8398\n",
      "RMSE: 7.6190\n",
      "MAPE: 1.47%\n",
      "DA:   48.07%\n",
      "\n",
      "Testing lag=15, train_window=80...\n",
      "\n",
      "Walk-forward (sliding window) metrics:\n",
      "MAE:  5.6258\n",
      "RMSE: 7.2931\n",
      "MAPE: 1.39%\n",
      "DA:   48.84%\n",
      "\n",
      "Testing lag=15, train_window=100...\n",
      "\n",
      "Walk-forward (sliding window) metrics:\n",
      "MAE:  5.6938\n",
      "RMSE: 7.3356\n",
      "MAPE: 1.39%\n",
      "DA:   48.28%\n",
      "\n",
      "Testing lag=15, train_window=120...\n",
      "\n",
      "Walk-forward (sliding window) metrics:\n",
      "MAE:  5.5669\n",
      "RMSE: 7.1437\n",
      "MAPE: 1.36%\n",
      "DA:   46.98%\n",
      "\n",
      "Testing lag=15, train_window=150...\n",
      "\n",
      "Walk-forward (sliding window) metrics:\n",
      "MAE:  5.6205\n",
      "RMSE: 7.2487\n",
      "MAPE: 1.35%\n",
      "DA:   45.11%\n",
      "\n",
      "Testing lag=20, train_window=40...\n",
      "\n",
      "Walk-forward (sliding window) metrics:\n",
      "MAE:  5.9948\n",
      "RMSE: 7.9519\n",
      "MAPE: 1.52%\n",
      "DA:   46.00%\n",
      "\n",
      "Testing lag=20, train_window=50...\n",
      "\n",
      "Walk-forward (sliding window) metrics:\n",
      "MAE:  6.0841\n",
      "RMSE: 8.2285\n",
      "MAPE: 1.53%\n",
      "DA:   46.89%\n",
      "\n",
      "Testing lag=20, train_window=60...\n",
      "\n",
      "Walk-forward (sliding window) metrics:\n",
      "MAE:  5.8653\n",
      "RMSE: 7.8246\n",
      "MAPE: 1.47%\n",
      "DA:   47.00%\n",
      "\n",
      "Testing lag=20, train_window=80...\n",
      "\n",
      "Walk-forward (sliding window) metrics:\n",
      "MAE:  5.7775\n",
      "RMSE: 7.4360\n",
      "MAPE: 1.43%\n",
      "DA:   49.25%\n",
      "\n",
      "Testing lag=20, train_window=100...\n",
      "\n",
      "Walk-forward (sliding window) metrics:\n",
      "MAE:  5.7498\n",
      "RMSE: 7.4354\n",
      "MAPE: 1.41%\n",
      "DA:   48.18%\n",
      "\n",
      "Testing lag=20, train_window=120...\n",
      "\n",
      "Walk-forward (sliding window) metrics:\n",
      "MAE:  5.7026\n",
      "RMSE: 7.3510\n",
      "MAPE: 1.39%\n",
      "DA:   45.60%\n",
      "\n",
      "Testing lag=20, train_window=150...\n",
      "\n",
      "Walk-forward (sliding window) metrics:\n",
      "MAE:  5.7196\n",
      "RMSE: 7.3553\n",
      "MAPE: 1.38%\n",
      "DA:   45.16%\n",
      "\n",
      "=== Optimization Results (sorted by MAE) ===\n",
      "    lag  train_window       MAE      RMSE      MAPE  Directional_Accuracy\n",
      "13    3           150  5.425661  7.141210  1.313262             49.264706\n",
      "5     2           120  5.437052  7.188319  1.333551             48.000000\n",
      "6     2           150  5.474252  7.172726  1.324281             48.440367\n",
      "12    3           120  5.481421  7.192526  1.346738             48.083624\n",
      "19    4           120  5.492628  7.183469  1.345426             48.516579\n",
      "4     2           100  5.498460  7.285918  1.358436             48.739496\n",
      "41    7           150  5.514721  7.164370  1.332869             48.333333\n",
      "11    3           100  5.523701  7.278239  1.364058             49.831650\n",
      "24    5            80  5.530190  7.207750  1.377957             49.509804\n",
      "25    5           100  5.539431  7.234749  1.364516             48.817568\n",
      "33    6           120  5.544806  7.228050  1.357660             49.387040\n",
      "31    6            80  5.544894  7.228456  1.378498             49.263502\n",
      "38    7            80  5.546185  7.223495  1.380120             48.524590\n",
      "20    4           150  5.546474  7.241709  1.341443             47.697974\n",
      "26    5           120  5.548454  7.230485  1.359681             49.125874\n",
      "34    6           150  5.557577  7.237867  1.341991             49.537893\n",
      "45   10            80  5.558865  7.257945  1.382062             51.565074\n",
      "54   15           120  5.566859  7.143691  1.357730             46.975089\n",
      "10    3            80  5.573189  7.248518  1.392011             50.977199\n",
      "27    5           150  5.577344  7.283691  1.347813             49.261993\n",
      "\n",
      "Best configuration: lag=3.0, train_window=150.0\n"
     ]
    }
   ],
   "source": [
    "ticker = \"MSFT\"\n",
    "data = load_stock_data(ticker, start=\"2023-01-01\")\n",
    "\n",
    "lag_values = [2, 3, 4, 5, 6, 7, 10, 15, 20]\n",
    "train_window_values = [40, 50, 60, 80, 100, 120, 150]\n",
    "\n",
    "results_df = optimize_window_sizes(data, lag_values, train_window_values, ticker)\n",
    "\n",
    "best = results_df.iloc[0]\n",
    "print(f\"\\nBest configuration: lag={best.lag}, train_window={best.train_window}\")"
   ]
  },
  {
   "cell_type": "code",
   "execution_count": 30,
   "id": "493a0f11",
   "metadata": {},
   "outputs": [],
   "source": [
    "def optuna_xgb(data, lag, train_window, n_trials=50, alpha=0.2):\n",
    "    X, y, dates, _ = create_features(data, lag)\n",
    "\n",
    "    def objective(trial):\n",
    "        params = {\n",
    "            \"n_estimators\": trial.suggest_categorical(\"n_estimators\", [200, 400, 600]),\n",
    "            \"learning_rate\": trial.suggest_float(\"learning_rate\", 0.01, 0.1, log=True),\n",
    "            \"max_depth\": trial.suggest_int(\"max_depth\", 3, 8),\n",
    "            \"subsample\": trial.suggest_float(\"subsample\", 0.5, 1.0),\n",
    "            \"colsample_bytree\": trial.suggest_float(\"colsample_bytree\", 0.5, 1.0),\n",
    "            \"reg_alpha\": trial.suggest_float(\"reg_alpha\", 0.0, 5.0),\n",
    "            \"reg_lambda\": trial.suggest_float(\"reg_lambda\", 0.0, 5.0),\n",
    "            \"random_state\": 42,\n",
    "            \"objective\": \"reg:squarederror\",\n",
    "            \"eval_metric\": \"mae\",\n",
    "        }\n",
    "        _, metrics = walk_forward_sliding_window(X, y, dates, train_window=train_window, params=params, step=1)\n",
    "        \n",
    "        if metrics is None:\n",
    "            return float(\"inf\")\n",
    "        \n",
    "        mae = metrics[\"MAE\"]\n",
    "        da = metrics[\"Directional_Accuracy\"]\n",
    "        trial.set_user_attr(\"MAE\", mae)\n",
    "        trial.set_user_attr(\"DA\", da)\n",
    "\n",
    "        # Composite objective: minimize MAE, maximize DA\n",
    "        objective_value = mae - alpha * (da / 100)\n",
    "        return objective_value\n",
    "\n",
    "    study = optuna.create_study(direction=\"minimize\")\n",
    "    study.optimize(objective, n_trials=n_trials)\n",
    "\n",
    "    return study"
   ]
  },
  {
   "cell_type": "code",
   "execution_count": 31,
   "id": "022ca2a8",
   "metadata": {},
   "outputs": [
    {
     "name": "stderr",
     "output_type": "stream",
     "text": [
      "[I 2025-10-15 22:39:03,685] A new study created in memory with name: no-name-59d40f79-115f-419d-a7ae-e5df959ab220\n",
      "[I 2025-10-15 22:41:02,474] Trial 0 finished with value: 6.165240827664387 and parameters: {'n_estimators': 400, 'learning_rate': 0.022072076541772092, 'max_depth': 5, 'subsample': 0.5363637010732047, 'colsample_bytree': 0.89054707160093, 'reg_alpha': 4.636895629122972, 'reg_lambda': 4.806003874830516}. Best is trial 0 with value: 6.165240827664387.\n"
     ]
    },
    {
     "name": "stdout",
     "output_type": "stream",
     "text": [
      "\n",
      "Walk-forward (sliding window) metrics:\n",
      "MAE:  6.2634\n",
      "RMSE: 8.1562\n",
      "MAPE: 1.51%\n",
      "DA:   49.08%\n"
     ]
    },
    {
     "name": "stderr",
     "output_type": "stream",
     "text": [
      "[I 2025-10-15 22:42:32,814] Trial 1 finished with value: 5.627198932316261 and parameters: {'n_estimators': 200, 'learning_rate': 0.07515957615820643, 'max_depth': 6, 'subsample': 0.5699598841940547, 'colsample_bytree': 0.9323532946563131, 'reg_alpha': 3.6177413323950374, 'reg_lambda': 3.574056856868517}. Best is trial 1 with value: 5.627198932316261.\n"
     ]
    },
    {
     "name": "stdout",
     "output_type": "stream",
     "text": [
      "\n",
      "Walk-forward (sliding window) metrics:\n",
      "MAE:  5.7228\n",
      "RMSE: 7.5062\n",
      "MAPE: 1.38%\n",
      "DA:   47.79%\n"
     ]
    },
    {
     "name": "stderr",
     "output_type": "stream",
     "text": [
      "[I 2025-10-15 22:43:57,488] Trial 2 finished with value: 6.679292395355505 and parameters: {'n_estimators': 200, 'learning_rate': 0.027406489826414537, 'max_depth': 7, 'subsample': 0.7309975179648818, 'colsample_bytree': 0.5191301311664697, 'reg_alpha': 2.166819067691405, 'reg_lambda': 4.77115942716121}. Best is trial 1 with value: 5.627198932316261.\n"
     ]
    },
    {
     "name": "stdout",
     "output_type": "stream",
     "text": [
      "\n",
      "Walk-forward (sliding window) metrics:\n",
      "MAE:  6.7730\n",
      "RMSE: 8.7865\n",
      "MAPE: 1.63%\n",
      "DA:   46.88%\n"
     ]
    },
    {
     "name": "stderr",
     "output_type": "stream",
     "text": [
      "[I 2025-10-15 22:47:16,284] Trial 3 finished with value: 5.591673342215326 and parameters: {'n_estimators': 600, 'learning_rate': 0.0890142446716618, 'max_depth': 6, 'subsample': 0.564720297013763, 'colsample_bytree': 0.6456842969774461, 'reg_alpha': 1.8121737837519314, 'reg_lambda': 3.438986523049717}. Best is trial 3 with value: 5.591673342215326.\n"
     ]
    },
    {
     "name": "stdout",
     "output_type": "stream",
     "text": [
      "\n",
      "Walk-forward (sliding window) metrics:\n",
      "MAE:  5.6895\n",
      "RMSE: 7.4603\n",
      "MAPE: 1.38%\n",
      "DA:   48.90%\n"
     ]
    },
    {
     "name": "stderr",
     "output_type": "stream",
     "text": [
      "[I 2025-10-15 22:51:36,603] Trial 4 finished with value: 5.400699331795146 and parameters: {'n_estimators': 600, 'learning_rate': 0.0261540678633407, 'max_depth': 7, 'subsample': 0.5235902657626246, 'colsample_bytree': 0.7246070211122746, 'reg_alpha': 2.681546994457812, 'reg_lambda': 1.264273747470868}. Best is trial 4 with value: 5.400699331795146.\n"
     ]
    },
    {
     "name": "stdout",
     "output_type": "stream",
     "text": [
      "\n",
      "Walk-forward (sliding window) metrics:\n",
      "MAE:  5.4956\n",
      "RMSE: 7.2295\n",
      "MAPE: 1.33%\n",
      "DA:   47.43%\n"
     ]
    },
    {
     "name": "stderr",
     "output_type": "stream",
     "text": [
      "[I 2025-10-15 22:52:20,546] Trial 5 finished with value: 5.621146033380202 and parameters: {'n_estimators': 200, 'learning_rate': 0.037171917590305, 'max_depth': 3, 'subsample': 0.9389816218243261, 'colsample_bytree': 0.7822263208156955, 'reg_alpha': 4.564800197276057, 'reg_lambda': 2.1021470300066585}. Best is trial 4 with value: 5.400699331795146.\n"
     ]
    },
    {
     "name": "stdout",
     "output_type": "stream",
     "text": [
      "\n",
      "Walk-forward (sliding window) metrics:\n",
      "MAE:  5.7156\n",
      "RMSE: 7.4807\n",
      "MAPE: 1.38%\n",
      "DA:   47.24%\n"
     ]
    },
    {
     "name": "stderr",
     "output_type": "stream",
     "text": [
      "[I 2025-10-15 22:53:50,090] Trial 6 finished with value: 5.58438851469218 and parameters: {'n_estimators': 200, 'learning_rate': 0.08063943089143316, 'max_depth': 7, 'subsample': 0.7305834142888956, 'colsample_bytree': 0.5612668749679817, 'reg_alpha': 1.9252436966713655, 'reg_lambda': 3.2487451000836636}. Best is trial 4 with value: 5.400699331795146.\n"
     ]
    },
    {
     "name": "stdout",
     "output_type": "stream",
     "text": [
      "\n",
      "Walk-forward (sliding window) metrics:\n",
      "MAE:  5.6785\n",
      "RMSE: 7.4726\n",
      "MAPE: 1.38%\n",
      "DA:   47.06%\n"
     ]
    },
    {
     "name": "stderr",
     "output_type": "stream",
     "text": [
      "[I 2025-10-15 22:57:44,361] Trial 7 finished with value: 5.601897010864982 and parameters: {'n_estimators': 600, 'learning_rate': 0.04168692704913003, 'max_depth': 8, 'subsample': 0.9295768020586545, 'colsample_bytree': 0.5038143363792525, 'reg_alpha': 1.5131178224766377, 'reg_lambda': 0.41910593677084607}. Best is trial 4 with value: 5.400699331795146.\n"
     ]
    },
    {
     "name": "stdout",
     "output_type": "stream",
     "text": [
      "\n",
      "Walk-forward (sliding window) metrics:\n",
      "MAE:  5.6934\n",
      "RMSE: 7.4737\n",
      "MAPE: 1.38%\n",
      "DA:   45.77%\n"
     ]
    },
    {
     "name": "stderr",
     "output_type": "stream",
     "text": [
      "[I 2025-10-15 22:59:14,805] Trial 8 finished with value: 7.585040731167575 and parameters: {'n_estimators': 200, 'learning_rate': 0.019011816317077688, 'max_depth': 7, 'subsample': 0.9538232755497861, 'colsample_bytree': 0.6265867928912989, 'reg_alpha': 0.7886237337113866, 'reg_lambda': 4.819461064996912}. Best is trial 4 with value: 5.400699331795146.\n"
     ]
    },
    {
     "name": "stdout",
     "output_type": "stream",
     "text": [
      "\n",
      "Walk-forward (sliding window) metrics:\n",
      "MAE:  7.6788\n",
      "RMSE: 9.9281\n",
      "MAPE: 1.83%\n",
      "DA:   46.88%\n"
     ]
    },
    {
     "name": "stderr",
     "output_type": "stream",
     "text": [
      "[I 2025-10-15 23:00:15,160] Trial 9 finished with value: 5.595443368202535 and parameters: {'n_estimators': 200, 'learning_rate': 0.041771937730962494, 'max_depth': 4, 'subsample': 0.6459730422474701, 'colsample_bytree': 0.7904850384077529, 'reg_alpha': 3.1741938066831024, 'reg_lambda': 1.7554746944802209}. Best is trial 4 with value: 5.400699331795146.\n"
     ]
    },
    {
     "name": "stdout",
     "output_type": "stream",
     "text": [
      "\n",
      "Walk-forward (sliding window) metrics:\n",
      "MAE:  5.6914\n",
      "RMSE: 7.4422\n",
      "MAPE: 1.38%\n",
      "DA:   47.98%\n"
     ]
    },
    {
     "name": "stderr",
     "output_type": "stream",
     "text": [
      "[I 2025-10-15 23:06:59,678] Trial 10 finished with value: 5.10294604479012 and parameters: {'n_estimators': 600, 'learning_rate': 0.01007137568515893, 'max_depth': 8, 'subsample': 0.8087973899920774, 'colsample_bytree': 0.6844839099187828, 'reg_alpha': 0.004452556922518003, 'reg_lambda': 0.1741395818808562}. Best is trial 10 with value: 5.10294604479012.\n"
     ]
    },
    {
     "name": "stdout",
     "output_type": "stream",
     "text": [
      "\n",
      "Walk-forward (sliding window) metrics:\n",
      "MAE:  5.1927\n",
      "RMSE: 6.8935\n",
      "MAPE: 1.26%\n",
      "DA:   44.85%\n"
     ]
    },
    {
     "name": "stderr",
     "output_type": "stream",
     "text": [
      "[I 2025-10-15 23:13:42,948] Trial 11 finished with value: 5.131812225028881 and parameters: {'n_estimators': 600, 'learning_rate': 0.010985252170618498, 'max_depth': 8, 'subsample': 0.8088324183833363, 'colsample_bytree': 0.6950529141360641, 'reg_alpha': 0.10256164203743169, 'reg_lambda': 0.23726881654222465}. Best is trial 10 with value: 5.10294604479012.\n"
     ]
    },
    {
     "name": "stdout",
     "output_type": "stream",
     "text": [
      "\n",
      "Walk-forward (sliding window) metrics:\n",
      "MAE:  5.2230\n",
      "RMSE: 6.9333\n",
      "MAPE: 1.27%\n",
      "DA:   45.59%\n"
     ]
    },
    {
     "name": "stderr",
     "output_type": "stream",
     "text": [
      "[I 2025-10-15 23:20:00,789] Trial 12 finished with value: 5.1669280627065906 and parameters: {'n_estimators': 600, 'learning_rate': 0.01006542156617763, 'max_depth': 8, 'subsample': 0.8238480100463594, 'colsample_bytree': 0.6908478576873934, 'reg_alpha': 0.4307837583422512, 'reg_lambda': 0.08194550185754396}. Best is trial 10 with value: 5.10294604479012.\n"
     ]
    },
    {
     "name": "stdout",
     "output_type": "stream",
     "text": [
      "\n",
      "Walk-forward (sliding window) metrics:\n",
      "MAE:  5.2574\n",
      "RMSE: 6.9519\n",
      "MAPE: 1.28%\n",
      "DA:   45.22%\n"
     ]
    },
    {
     "name": "stderr",
     "output_type": "stream",
     "text": [
      "[I 2025-10-15 23:27:08,287] Trial 13 finished with value: 5.191316258553486 and parameters: {'n_estimators': 600, 'learning_rate': 0.011079102469673568, 'max_depth': 8, 'subsample': 0.8351848950054054, 'colsample_bytree': 0.8399877482286436, 'reg_alpha': 0.039868112072217354, 'reg_lambda': 0.7031829666188313}. Best is trial 10 with value: 5.10294604479012.\n"
     ]
    },
    {
     "name": "stdout",
     "output_type": "stream",
     "text": [
      "\n",
      "Walk-forward (sliding window) metrics:\n",
      "MAE:  5.2829\n",
      "RMSE: 6.9683\n",
      "MAPE: 1.28%\n",
      "DA:   45.77%\n"
     ]
    },
    {
     "name": "stderr",
     "output_type": "stream",
     "text": [
      "[I 2025-10-15 23:30:43,540] Trial 14 finished with value: 5.892274579677592 and parameters: {'n_estimators': 400, 'learning_rate': 0.014747536155816789, 'max_depth': 8, 'subsample': 0.8240290368210539, 'colsample_bytree': 0.6255725322933517, 'reg_alpha': 1.0679724536398287, 'reg_lambda': 1.2109892280858474}. Best is trial 10 with value: 5.10294604479012.\n"
     ]
    },
    {
     "name": "stdout",
     "output_type": "stream",
     "text": [
      "\n",
      "Walk-forward (sliding window) metrics:\n",
      "MAE:  5.9820\n",
      "RMSE: 7.8183\n",
      "MAPE: 1.45%\n",
      "DA:   44.85%\n"
     ]
    },
    {
     "name": "stderr",
     "output_type": "stream",
     "text": [
      "[I 2025-10-15 23:34:38,753] Trial 15 finished with value: 5.236022385969331 and parameters: {'n_estimators': 600, 'learning_rate': 0.015778019032106804, 'max_depth': 5, 'subsample': 0.8788616366129344, 'colsample_bytree': 0.9869800562761522, 'reg_alpha': 0.06357079100957991, 'reg_lambda': 0.8917875199274792}. Best is trial 10 with value: 5.10294604479012.\n"
     ]
    },
    {
     "name": "stdout",
     "output_type": "stream",
     "text": [
      "\n",
      "Walk-forward (sliding window) metrics:\n",
      "MAE:  5.3287\n",
      "RMSE: 7.0475\n",
      "MAPE: 1.30%\n",
      "DA:   46.32%\n"
     ]
    },
    {
     "name": "stderr",
     "output_type": "stream",
     "text": [
      "[I 2025-10-15 23:38:50,647] Trial 16 finished with value: 5.575024242781975 and parameters: {'n_estimators': 600, 'learning_rate': 0.012991548458701358, 'max_depth': 6, 'subsample': 0.6780500313924404, 'colsample_bytree': 0.7019720530940792, 'reg_alpha': 1.0345309325544634, 'reg_lambda': 2.459884943713065}. Best is trial 10 with value: 5.10294604479012.\n"
     ]
    },
    {
     "name": "stdout",
     "output_type": "stream",
     "text": [
      "\n",
      "Walk-forward (sliding window) metrics:\n",
      "MAE:  5.6677\n",
      "RMSE: 7.4180\n",
      "MAPE: 1.37%\n",
      "DA:   46.32%\n"
     ]
    },
    {
     "name": "stderr",
     "output_type": "stream",
     "text": [
      "[I 2025-10-15 23:42:44,520] Trial 17 finished with value: 5.312623812762454 and parameters: {'n_estimators': 600, 'learning_rate': 0.06031017759024524, 'max_depth': 8, 'subsample': 0.7814958252061729, 'colsample_bytree': 0.5893114413127889, 'reg_alpha': 0.596035910998711, 'reg_lambda': 0.2002394923471602}. Best is trial 10 with value: 5.10294604479012.\n"
     ]
    },
    {
     "name": "stdout",
     "output_type": "stream",
     "text": [
      "\n",
      "Walk-forward (sliding window) metrics:\n",
      "MAE:  5.4023\n",
      "RMSE: 7.1831\n",
      "MAPE: 1.31%\n",
      "DA:   44.85%\n"
     ]
    },
    {
     "name": "stderr",
     "output_type": "stream",
     "text": [
      "[I 2025-10-15 23:46:17,508] Trial 18 finished with value: 5.5600294892362045 and parameters: {'n_estimators': 400, 'learning_rate': 0.01769700101644192, 'max_depth': 7, 'subsample': 0.8796860475793815, 'colsample_bytree': 0.7798877206496069, 'reg_alpha': 1.3111545769421555, 'reg_lambda': 1.628271601238156}. Best is trial 10 with value: 5.10294604479012.\n"
     ]
    },
    {
     "name": "stdout",
     "output_type": "stream",
     "text": [
      "\n",
      "Walk-forward (sliding window) metrics:\n",
      "MAE:  5.6519\n",
      "RMSE: 7.3848\n",
      "MAPE: 1.37%\n",
      "DA:   45.96%\n"
     ]
    },
    {
     "name": "stderr",
     "output_type": "stream",
     "text": [
      "[I 2025-10-15 23:48:24,894] Trial 19 finished with value: 5.371631313927162 and parameters: {'n_estimators': 600, 'learning_rate': 0.012594847854511466, 'max_depth': 3, 'subsample': 0.7776032707092423, 'colsample_bytree': 0.6719063916127277, 'reg_alpha': 2.6215335980868986, 'reg_lambda': 0.7181335170204275}. Best is trial 10 with value: 5.10294604479012.\n"
     ]
    },
    {
     "name": "stdout",
     "output_type": "stream",
     "text": [
      "\n",
      "Walk-forward (sliding window) metrics:\n",
      "MAE:  5.4676\n",
      "RMSE: 7.1807\n",
      "MAPE: 1.32%\n",
      "DA:   47.98%\n"
     ]
    },
    {
     "name": "stderr",
     "output_type": "stream",
     "text": [
      "[I 2025-10-15 23:51:35,660] Trial 20 finished with value: 5.011300634475766 and parameters: {'n_estimators': 600, 'learning_rate': 0.020547050211304395, 'max_depth': 4, 'subsample': 0.6682112080871933, 'colsample_bytree': 0.8363198420325905, 'reg_alpha': 0.3502216611192889, 'reg_lambda': 0.011464579182612011}. Best is trial 20 with value: 5.011300634475766.\n"
     ]
    },
    {
     "name": "stdout",
     "output_type": "stream",
     "text": [
      "\n",
      "Walk-forward (sliding window) metrics:\n",
      "MAE:  5.1062\n",
      "RMSE: 6.8397\n",
      "MAPE: 1.24%\n",
      "DA:   47.43%\n"
     ]
    },
    {
     "name": "stderr",
     "output_type": "stream",
     "text": [
      "[I 2025-10-15 23:54:25,573] Trial 21 finished with value: 5.07773055742061 and parameters: {'n_estimators': 600, 'learning_rate': 0.01024606118925007, 'max_depth': 4, 'subsample': 0.6548131131918941, 'colsample_bytree': 0.8329646556342012, 'reg_alpha': 0.41342591426590636, 'reg_lambda': 0.04344109655565698}. Best is trial 20 with value: 5.011300634475766.\n"
     ]
    },
    {
     "name": "stdout",
     "output_type": "stream",
     "text": [
      "\n",
      "Walk-forward (sliding window) metrics:\n",
      "MAE:  5.1744\n",
      "RMSE: 6.8875\n",
      "MAPE: 1.26%\n",
      "DA:   48.35%\n"
     ]
    },
    {
     "name": "stderr",
     "output_type": "stream",
     "text": [
      "[I 2025-10-15 23:57:28,898] Trial 22 finished with value: 5.0695845709449205 and parameters: {'n_estimators': 600, 'learning_rate': 0.02102430068331168, 'max_depth': 4, 'subsample': 0.6508124564348942, 'colsample_bytree': 0.8565306144887417, 'reg_alpha': 0.5538041306870549, 'reg_lambda': 0.04447603013929497}. Best is trial 20 with value: 5.011300634475766.\n"
     ]
    },
    {
     "name": "stdout",
     "output_type": "stream",
     "text": [
      "\n",
      "Walk-forward (sliding window) metrics:\n",
      "MAE:  5.1615\n",
      "RMSE: 6.9003\n",
      "MAPE: 1.25%\n",
      "DA:   45.96%\n"
     ]
    },
    {
     "name": "stderr",
     "output_type": "stream",
     "text": [
      "[I 2025-10-16 00:00:35,100] Trial 23 finished with value: 5.2675060620130365 and parameters: {'n_estimators': 600, 'learning_rate': 0.02288557983595112, 'max_depth': 4, 'subsample': 0.63444084811, 'colsample_bytree': 0.8493694866911027, 'reg_alpha': 0.672678279344816, 'reg_lambda': 1.0524262610785797}. Best is trial 20 with value: 5.011300634475766.\n"
     ]
    },
    {
     "name": "stdout",
     "output_type": "stream",
     "text": [
      "\n",
      "Walk-forward (sliding window) metrics:\n",
      "MAE:  5.3624\n",
      "RMSE: 7.1159\n",
      "MAPE: 1.30%\n",
      "DA:   47.43%\n"
     ]
    },
    {
     "name": "stderr",
     "output_type": "stream",
     "text": [
      "[I 2025-10-16 00:03:44,634] Trial 24 finished with value: 5.2418013777014885 and parameters: {'n_estimators': 600, 'learning_rate': 0.02015721981407854, 'max_depth': 4, 'subsample': 0.6791117069646276, 'colsample_bytree': 0.8369117174997578, 'reg_alpha': 1.4457123111932382, 'reg_lambda': 0.5122455643464386}. Best is trial 20 with value: 5.011300634475766.\n"
     ]
    },
    {
     "name": "stdout",
     "output_type": "stream",
     "text": [
      "\n",
      "Walk-forward (sliding window) metrics:\n",
      "MAE:  5.3370\n",
      "RMSE: 7.0804\n",
      "MAPE: 1.29%\n",
      "DA:   47.61%\n"
     ]
    },
    {
     "name": "stderr",
     "output_type": "stream",
     "text": [
      "[I 2025-10-16 00:05:47,067] Trial 25 finished with value: 4.995755368853928 and parameters: {'n_estimators': 400, 'learning_rate': 0.03327215891102391, 'max_depth': 4, 'subsample': 0.6096765703932476, 'colsample_bytree': 0.90957538524205, 'reg_alpha': 0.5249538017219989, 'reg_lambda': 0.026983613088952935}. Best is trial 25 with value: 4.995755368853928.\n"
     ]
    },
    {
     "name": "stdout",
     "output_type": "stream",
     "text": [
      "\n",
      "Walk-forward (sliding window) metrics:\n",
      "MAE:  5.0895\n",
      "RMSE: 6.8510\n",
      "MAPE: 1.23%\n",
      "DA:   46.88%\n"
     ]
    },
    {
     "name": "stderr",
     "output_type": "stream",
     "text": [
      "[I 2025-10-16 00:07:22,741] Trial 26 finished with value: 5.331764464113304 and parameters: {'n_estimators': 400, 'learning_rate': 0.0320048619423132, 'max_depth': 3, 'subsample': 0.600964187931467, 'colsample_bytree': 0.9123795765224807, 'reg_alpha': 0.9761565024507035, 'reg_lambda': 1.4890362766340346}. Best is trial 25 with value: 4.995755368853928.\n"
     ]
    },
    {
     "name": "stdout",
     "output_type": "stream",
     "text": [
      "\n",
      "Walk-forward (sliding window) metrics:\n",
      "MAE:  5.4303\n",
      "RMSE: 7.1792\n",
      "MAPE: 1.31%\n",
      "DA:   49.26%\n"
     ]
    },
    {
     "name": "stderr",
     "output_type": "stream",
     "text": [
      "[I 2025-10-16 00:10:01,294] Trial 27 finished with value: 5.326101172375666 and parameters: {'n_estimators': 400, 'learning_rate': 0.051457866143115746, 'max_depth': 5, 'subsample': 0.707597095816498, 'colsample_bytree': 0.9661682579993636, 'reg_alpha': 0.4145904053917175, 'reg_lambda': 2.914922278294566}. Best is trial 25 with value: 4.995755368853928.\n"
     ]
    },
    {
     "name": "stdout",
     "output_type": "stream",
     "text": [
      "\n",
      "Walk-forward (sliding window) metrics:\n",
      "MAE:  5.4202\n",
      "RMSE: 7.1950\n",
      "MAPE: 1.32%\n",
      "DA:   47.06%\n"
     ]
    },
    {
     "name": "stderr",
     "output_type": "stream",
     "text": [
      "[I 2025-10-16 00:12:11,704] Trial 28 finished with value: 5.75727897104674 and parameters: {'n_estimators': 400, 'learning_rate': 0.028777440890896195, 'max_depth': 4, 'subsample': 0.6146171799308696, 'colsample_bytree': 0.8847624076271239, 'reg_alpha': 4.071694691377082, 'reg_lambda': 4.001958687488594}. Best is trial 25 with value: 4.995755368853928.\n"
     ]
    },
    {
     "name": "stdout",
     "output_type": "stream",
     "text": [
      "\n",
      "Walk-forward (sliding window) metrics:\n",
      "MAE:  5.8562\n",
      "RMSE: 7.6539\n",
      "MAPE: 1.42%\n",
      "DA:   49.45%\n"
     ]
    },
    {
     "name": "stderr",
     "output_type": "stream",
     "text": [
      "[I 2025-10-16 00:14:40,629] Trial 29 finished with value: 5.344946335176488 and parameters: {'n_estimators': 400, 'learning_rate': 0.02328644012604791, 'max_depth': 5, 'subsample': 0.5065952541448756, 'colsample_bytree': 0.8753298777528822, 'reg_alpha': 1.7619222419651779, 'reg_lambda': 0.6378239085714091}. Best is trial 25 with value: 4.995755368853928.\n"
     ]
    },
    {
     "name": "stdout",
     "output_type": "stream",
     "text": [
      "\n",
      "Walk-forward (sliding window) metrics:\n",
      "MAE:  5.4416\n",
      "RMSE: 7.1363\n",
      "MAPE: 1.32%\n",
      "DA:   48.35%\n"
     ]
    },
    {
     "name": "stderr",
     "output_type": "stream",
     "text": [
      "[I 2025-10-16 00:16:19,452] Trial 30 finished with value: 5.484760967487268 and parameters: {'n_estimators': 400, 'learning_rate': 0.03208994147773173, 'max_depth': 3, 'subsample': 0.5954907328255173, 'colsample_bytree': 0.9335920810358014, 'reg_alpha': 2.2702280780764954, 'reg_lambda': 2.068616455171891}. Best is trial 25 with value: 4.995755368853928.\n"
     ]
    },
    {
     "name": "stdout",
     "output_type": "stream",
     "text": [
      "\n",
      "Walk-forward (sliding window) metrics:\n",
      "MAE:  5.5815\n",
      "RMSE: 7.3323\n",
      "MAPE: 1.35%\n",
      "DA:   48.35%\n"
     ]
    },
    {
     "name": "stderr",
     "output_type": "stream",
     "text": [
      "[I 2025-10-16 00:19:05,312] Trial 31 finished with value: 5.053181265652405 and parameters: {'n_estimators': 600, 'learning_rate': 0.017519012131217274, 'max_depth': 4, 'subsample': 0.6650327913143601, 'colsample_bytree': 0.8202887996495895, 'reg_alpha': 0.318195308576514, 'reg_lambda': 0.05890856241563218}. Best is trial 25 with value: 4.995755368853928.\n"
     ]
    },
    {
     "name": "stdout",
     "output_type": "stream",
     "text": [
      "\n",
      "Walk-forward (sliding window) metrics:\n",
      "MAE:  5.1499\n",
      "RMSE: 6.8888\n",
      "MAPE: 1.25%\n",
      "DA:   48.35%\n"
     ]
    },
    {
     "name": "stderr",
     "output_type": "stream",
     "text": [
      "[I 2025-10-16 00:22:03,792] Trial 32 finished with value: 5.108156763973329 and parameters: {'n_estimators': 600, 'learning_rate': 0.021525544052688753, 'max_depth': 4, 'subsample': 0.5500139251202832, 'colsample_bytree': 0.8072003252022777, 'reg_alpha': 0.7847104425682243, 'reg_lambda': 0.0019383667892638456}. Best is trial 25 with value: 4.995755368853928.\n"
     ]
    },
    {
     "name": "stdout",
     "output_type": "stream",
     "text": [
      "\n",
      "Walk-forward (sliding window) metrics:\n",
      "MAE:  5.2030\n",
      "RMSE: 6.9319\n",
      "MAPE: 1.26%\n",
      "DA:   47.43%\n"
     ]
    },
    {
     "name": "stderr",
     "output_type": "stream",
     "text": [
      "[I 2025-10-16 00:24:30,104] Trial 33 finished with value: 5.211978118122428 and parameters: {'n_estimators': 400, 'learning_rate': 0.016772607793969056, 'max_depth': 5, 'subsample': 0.6905098259623494, 'colsample_bytree': 0.7508228743701277, 'reg_alpha': 0.3106670525419645, 'reg_lambda': 0.4572280739668339}. Best is trial 25 with value: 4.995755368853928.\n"
     ]
    },
    {
     "name": "stdout",
     "output_type": "stream",
     "text": [
      "\n",
      "Walk-forward (sliding window) metrics:\n",
      "MAE:  5.3046\n",
      "RMSE: 7.0073\n",
      "MAPE: 1.29%\n",
      "DA:   46.32%\n"
     ]
    },
    {
     "name": "stderr",
     "output_type": "stream",
     "text": [
      "[I 2025-10-16 00:27:34,295] Trial 34 finished with value: 5.336952633556648 and parameters: {'n_estimators': 600, 'learning_rate': 0.02560582392425749, 'max_depth': 4, 'subsample': 0.5729402041405568, 'colsample_bytree': 0.931083961273669, 'reg_alpha': 1.2595642051053575, 'reg_lambda': 0.926189956319659}. Best is trial 25 with value: 4.995755368853928.\n"
     ]
    },
    {
     "name": "stdout",
     "output_type": "stream",
     "text": [
      "\n",
      "Walk-forward (sliding window) metrics:\n",
      "MAE:  5.4336\n",
      "RMSE: 7.1480\n",
      "MAPE: 1.32%\n",
      "DA:   48.35%\n"
     ]
    },
    {
     "name": "stderr",
     "output_type": "stream",
     "text": [
      "[I 2025-10-16 00:29:58,543] Trial 35 finished with value: 5.743351641025533 and parameters: {'n_estimators': 600, 'learning_rate': 0.013876840074476433, 'max_depth': 3, 'subsample': 0.7158411590940854, 'colsample_bytree': 0.8680626967855578, 'reg_alpha': 3.072593711419856, 'reg_lambda': 4.101274365514735}. Best is trial 25 with value: 4.995755368853928.\n"
     ]
    },
    {
     "name": "stdout",
     "output_type": "stream",
     "text": [
      "\n",
      "Walk-forward (sliding window) metrics:\n",
      "MAE:  5.8411\n",
      "RMSE: 7.6317\n",
      "MAPE: 1.41%\n",
      "DA:   48.90%\n"
     ]
    },
    {
     "name": "stderr",
     "output_type": "stream",
     "text": [
      "[I 2025-10-16 00:32:31,641] Trial 36 finished with value: 5.247417343312576 and parameters: {'n_estimators': 400, 'learning_rate': 0.018747959466652205, 'max_depth': 5, 'subsample': 0.7567262663907954, 'colsample_bytree': 0.7508424786727025, 'reg_alpha': 0.886258421586258, 'reg_lambda': 0.36932713284799196}. Best is trial 25 with value: 4.995755368853928.\n"
     ]
    },
    {
     "name": "stdout",
     "output_type": "stream",
     "text": [
      "\n",
      "Walk-forward (sliding window) metrics:\n",
      "MAE:  5.3375\n",
      "RMSE: 7.0511\n",
      "MAPE: 1.30%\n",
      "DA:   45.04%\n"
     ]
    },
    {
     "name": "stderr",
     "output_type": "stream",
     "text": [
      "[I 2025-10-16 00:33:29,221] Trial 37 finished with value: 5.3622639392043725 and parameters: {'n_estimators': 200, 'learning_rate': 0.03571910897251535, 'max_depth': 4, 'subsample': 0.6355353215102495, 'colsample_bytree': 0.8064119081322259, 'reg_alpha': 0.5631189331117759, 'reg_lambda': 1.1418196701961216}. Best is trial 25 with value: 4.995755368853928.\n"
     ]
    },
    {
     "name": "stdout",
     "output_type": "stream",
     "text": [
      "\n",
      "Walk-forward (sliding window) metrics:\n",
      "MAE:  5.4615\n",
      "RMSE: 7.1624\n",
      "MAPE: 1.32%\n",
      "DA:   49.63%\n"
     ]
    },
    {
     "name": "stderr",
     "output_type": "stream",
     "text": [
      "[I 2025-10-16 00:35:54,343] Trial 38 finished with value: 5.305670475638112 and parameters: {'n_estimators': 600, 'learning_rate': 0.02583748443373451, 'max_depth': 3, 'subsample': 0.5804503327023837, 'colsample_bytree': 0.9579833803162273, 'reg_alpha': 1.6560316667531145, 'reg_lambda': 0.7966508662633603}. Best is trial 25 with value: 4.995755368853928.\n"
     ]
    },
    {
     "name": "stdout",
     "output_type": "stream",
     "text": [
      "\n",
      "Walk-forward (sliding window) metrics:\n",
      "MAE:  5.4031\n",
      "RMSE: 7.1285\n",
      "MAPE: 1.31%\n",
      "DA:   48.71%\n"
     ]
    },
    {
     "name": "stderr",
     "output_type": "stream",
     "text": [
      "[I 2025-10-16 00:40:10,964] Trial 39 finished with value: 5.220202992455225 and parameters: {'n_estimators': 600, 'learning_rate': 0.029197189999757227, 'max_depth': 6, 'subsample': 0.53539056707585, 'colsample_bytree': 0.9156310659764294, 'reg_alpha': 2.077379525605916, 'reg_lambda': 0.46078102991871006}. Best is trial 25 with value: 4.995755368853928.\n"
     ]
    },
    {
     "name": "stdout",
     "output_type": "stream",
     "text": [
      "\n",
      "Walk-forward (sliding window) metrics:\n",
      "MAE:  5.3143\n",
      "RMSE: 7.0281\n",
      "MAPE: 1.29%\n",
      "DA:   47.06%\n"
     ]
    },
    {
     "name": "stderr",
     "output_type": "stream",
     "text": [
      "[I 2025-10-16 00:41:15,988] Trial 40 finished with value: 5.407604048307433 and parameters: {'n_estimators': 200, 'learning_rate': 0.02056006127517075, 'max_depth': 4, 'subsample': 0.6564402668490189, 'colsample_bytree': 0.9055748345268277, 'reg_alpha': 0.2905442769847437, 'reg_lambda': 0.3604661558859243}. Best is trial 25 with value: 4.995755368853928.\n"
     ]
    },
    {
     "name": "stdout",
     "output_type": "stream",
     "text": [
      "\n",
      "Walk-forward (sliding window) metrics:\n",
      "MAE:  5.5017\n",
      "RMSE: 7.1957\n",
      "MAPE: 1.33%\n",
      "DA:   47.06%\n"
     ]
    },
    {
     "name": "stderr",
     "output_type": "stream",
     "text": [
      "[I 2025-10-16 00:44:15,520] Trial 41 finished with value: 5.090417763740387 and parameters: {'n_estimators': 600, 'learning_rate': 0.015729290539173817, 'max_depth': 4, 'subsample': 0.9991094287125944, 'colsample_bytree': 0.8140185568811446, 'reg_alpha': 0.3066438680317306, 'reg_lambda': 0.029739397688422042}. Best is trial 25 with value: 4.995755368853928.\n"
     ]
    },
    {
     "name": "stdout",
     "output_type": "stream",
     "text": [
      "\n",
      "Walk-forward (sliding window) metrics:\n",
      "MAE:  5.1853\n",
      "RMSE: 6.9191\n",
      "MAPE: 1.26%\n",
      "DA:   47.43%\n"
     ]
    },
    {
     "name": "stderr",
     "output_type": "stream",
     "text": [
      "[I 2025-10-16 00:47:50,989] Trial 42 finished with value: 5.121341550099291 and parameters: {'n_estimators': 600, 'learning_rate': 0.041513240819288186, 'max_depth': 5, 'subsample': 0.6604091611477619, 'colsample_bytree': 0.8570454909626417, 'reg_alpha': 1.1826920042816251, 'reg_lambda': 0.05423612291368461}. Best is trial 25 with value: 4.995755368853928.\n"
     ]
    },
    {
     "name": "stdout",
     "output_type": "stream",
     "text": [
      "\n",
      "Walk-forward (sliding window) metrics:\n",
      "MAE:  5.2155\n",
      "RMSE: 6.9215\n",
      "MAPE: 1.26%\n",
      "DA:   47.06%\n"
     ]
    },
    {
     "name": "stderr",
     "output_type": "stream",
     "text": [
      "[I 2025-10-16 00:50:44,695] Trial 43 finished with value: 5.23143532552786 and parameters: {'n_estimators': 600, 'learning_rate': 0.02455776384869189, 'max_depth': 4, 'subsample': 0.6159684989143173, 'colsample_bytree': 0.8292770183427148, 'reg_alpha': 0.633570532920141, 'reg_lambda': 0.5901035442499561}. Best is trial 25 with value: 4.995755368853928.\n"
     ]
    },
    {
     "name": "stdout",
     "output_type": "stream",
     "text": [
      "\n",
      "Walk-forward (sliding window) metrics:\n",
      "MAE:  5.3248\n",
      "RMSE: 7.0418\n",
      "MAPE: 1.29%\n",
      "DA:   46.69%\n"
     ]
    },
    {
     "name": "stderr",
     "output_type": "stream",
     "text": [
      "[I 2025-10-16 00:52:53,807] Trial 44 finished with value: 5.392252724941396 and parameters: {'n_estimators': 600, 'learning_rate': 0.035340171381234325, 'max_depth': 3, 'subsample': 0.7351056647868864, 'colsample_bytree': 0.771905542940054, 'reg_alpha': 4.780223627046263, 'reg_lambda': 0.2523056984380677}. Best is trial 25 with value: 4.995755368853928.\n"
     ]
    },
    {
     "name": "stdout",
     "output_type": "stream",
     "text": [
      "\n",
      "Walk-forward (sliding window) metrics:\n",
      "MAE:  5.4889\n",
      "RMSE: 7.2242\n",
      "MAPE: 1.33%\n",
      "DA:   48.35%\n"
     ]
    },
    {
     "name": "stderr",
     "output_type": "stream",
     "text": [
      "[I 2025-10-16 00:56:06,692] Trial 45 finished with value: 5.022398581507396 and parameters: {'n_estimators': 600, 'learning_rate': 0.011931573359816445, 'max_depth': 4, 'subsample': 0.6901769562949109, 'colsample_bytree': 0.8940688242246322, 'reg_alpha': 0.3480878400038365, 'reg_lambda': 0.004217805070492041}. Best is trial 25 with value: 4.995755368853928.\n"
     ]
    },
    {
     "name": "stdout",
     "output_type": "stream",
     "text": [
      "\n",
      "Walk-forward (sliding window) metrics:\n",
      "MAE:  5.1176\n",
      "RMSE: 6.8217\n",
      "MAPE: 1.24%\n",
      "DA:   47.61%\n"
     ]
    },
    {
     "name": "stderr",
     "output_type": "stream",
     "text": [
      "[I 2025-10-16 01:00:00,920] Trial 46 finished with value: 5.335712845828555 and parameters: {'n_estimators': 600, 'learning_rate': 0.013035790811767874, 'max_depth': 5, 'subsample': 0.6986541804868953, 'colsample_bytree': 0.882458653890102, 'reg_alpha': 0.19176810518873003, 'reg_lambda': 1.414080491722307}. Best is trial 25 with value: 4.995755368853928.\n"
     ]
    },
    {
     "name": "stdout",
     "output_type": "stream",
     "text": [
      "\n",
      "Walk-forward (sliding window) metrics:\n",
      "MAE:  5.4295\n",
      "RMSE: 7.1439\n",
      "MAPE: 1.32%\n",
      "DA:   46.88%\n"
     ]
    },
    {
     "name": "stderr",
     "output_type": "stream",
     "text": [
      "[I 2025-10-16 01:01:08,692] Trial 47 finished with value: 6.957709007036731 and parameters: {'n_estimators': 200, 'learning_rate': 0.012042036463165673, 'max_depth': 4, 'subsample': 0.6227978541869935, 'colsample_bytree': 0.8978047481946441, 'reg_alpha': 0.796646845625719, 'reg_lambda': 0.23493015926025643}. Best is trial 25 with value: 4.995755368853928.\n"
     ]
    },
    {
     "name": "stdout",
     "output_type": "stream",
     "text": [
      "\n",
      "Walk-forward (sliding window) metrics:\n",
      "MAE:  7.0533\n",
      "RMSE: 8.9112\n",
      "MAPE: 1.68%\n",
      "DA:   47.79%\n"
     ]
    },
    {
     "name": "stderr",
     "output_type": "stream",
     "text": [
      "[I 2025-10-16 01:03:27,361] Trial 48 finished with value: 5.208033076377412 and parameters: {'n_estimators': 600, 'learning_rate': 0.014958930266854586, 'max_depth': 3, 'subsample': 0.6781351637550472, 'colsample_bytree': 0.9453206600897732, 'reg_alpha': 0.00551190969359272, 'reg_lambda': 0.9850113343393625}. Best is trial 25 with value: 4.995755368853928.\n"
     ]
    },
    {
     "name": "stdout",
     "output_type": "stream",
     "text": [
      "\n",
      "Walk-forward (sliding window) metrics:\n",
      "MAE:  5.3051\n",
      "RMSE: 7.0042\n",
      "MAPE: 1.28%\n",
      "DA:   48.53%\n"
     ]
    },
    {
     "name": "stderr",
     "output_type": "stream",
     "text": [
      "[I 2025-10-16 01:06:35,484] Trial 49 finished with value: 5.231085623397869 and parameters: {'n_estimators': 600, 'learning_rate': 0.01748965332356013, 'max_depth': 4, 'subsample': 0.726824610320816, 'colsample_bytree': 0.9876156095297637, 'reg_alpha': 0.5673869295228314, 'reg_lambda': 0.6561605062089163}. Best is trial 25 with value: 4.995755368853928.\n"
     ]
    },
    {
     "name": "stdout",
     "output_type": "stream",
     "text": [
      "\n",
      "Walk-forward (sliding window) metrics:\n",
      "MAE:  5.3212\n",
      "RMSE: 7.0600\n",
      "MAPE: 1.29%\n",
      "DA:   45.04%\n",
      "\n",
      "=== Optuna optimization finished ===\n",
      "Best objective value: 4.995755368853928\n",
      "Best parameters:\n",
      "  n_estimators: 400\n",
      "  learning_rate: 0.03327215891102391\n",
      "  max_depth: 4\n",
      "  subsample: 0.6096765703932476\n",
      "  colsample_bytree: 0.90957538524205\n",
      "  reg_alpha: 0.5249538017219989\n",
      "  reg_lambda: 0.026983613088952935\n",
      "   number     value     state  user_attrs_DA  user_attrs_MAE\n",
      "0       0  6.165241  COMPLETE      49.080882        6.263403\n",
      "1       1  5.627199  COMPLETE      47.794118        5.722787\n",
      "2       2  6.679292  COMPLETE      46.875000        6.773042\n",
      "3       3  5.591673  COMPLETE      48.897059        5.689467\n",
      "4       4  5.400699  COMPLETE      47.426471        5.495552\n"
     ]
    }
   ],
   "source": [
    "lag = 3\n",
    "train_window = 150\n",
    "\n",
    "study = optuna_xgb(data, lag=lag, train_window=train_window, n_trials=50)\n",
    "\n",
    "#optuna.visualization.plot_optimization_history(study).show()\n",
    "#optuna.visualization.plot_param_importances(study).show()\n",
    "\n",
    "print(\"\\n=== Optuna optimization finished ===\")\n",
    "print(\"Best objective value:\", study.best_value)\n",
    "print(\"Best parameters:\")\n",
    "for k, v in study.best_params.items():\n",
    "    print(f\"  {k}: {v}\")\n",
    "\n",
    "trials_df = study.trials_dataframe(attrs=(\"number\", \"value\", \"state\", \"user_attrs\"))\n",
    "print(trials_df.head())"
   ]
  },
  {
   "cell_type": "code",
   "execution_count": 32,
   "id": "0b1d7562",
   "metadata": {},
   "outputs": [
    {
     "name": "stdout",
     "output_type": "stream",
     "text": [
      "\n",
      "Walk-forward (sliding window) metrics:\n",
      "MAE:  5.1856\n",
      "RMSE: 6.9383\n",
      "MAPE: 1.26%\n",
      "DA:   47.24%\n",
      "\n",
      "Walk-forward metrics with best params:\n",
      "{'MAE': 5.185620061191944, 'RMSE': 6.938285077628281, 'MAPE': np.float64(1.2590766150202768), 'Directional_Accuracy': np.float64(47.24264705882353)}\n"
     ]
    },
    {
     "data": {
      "image/png": "[encoded data removed]",
      "text/plain": [
       "<Figure size 1200x800 with 2 Axes>"
      ]
     },
     "metadata": {},
     "output_type": "display_data"
    }
   ],
   "source": [
    "X, y, target_dates, feature_dates = create_features(data, lag)\n",
    "\n",
    "results, metrics = walk_forward_sliding_window(\n",
    "    X, y, target_dates,\n",
    "    train_window=train_window,\n",
    "    step=1, # predict daily\n",
    "    params=study.best_params,\n",
    ")\n",
    "\n",
    "print(\"\\nWalk-forward metrics with best params:\")\n",
    "print(metrics)\n",
    "\n",
    "plot_walk_forward_results(results, ticker)\n"
   ]
  },
  {
   "cell_type": "code",
   "execution_count": 33,
   "id": "decc0df1",
   "metadata": {},
   "outputs": [
    {
     "data": {
      "image/png": "[encoded data removed]",
      "text/plain": [
       "<Figure size 1000x500 with 2 Axes>"
      ]
     },
     "metadata": {},
     "output_type": "display_data"
    }
   ],
   "source": [
    "plot_sample(X, y, target_dates, feature_dates, sample_idx=0, lag=lag, ticker=ticker)"
   ]
  }
 ],
 "metadata": {
  "kernelspec": {
   "display_name": "Python (venv)",
   "language": "python",
   "name": "venv"
  },
  "language_info": {
   "codemirror_mode": {
    "name": "ipython",
    "version": 3
   },
   "file_extension": ".py",
   "mimetype": "text/x-python",
   "name": "python",
   "nbconvert_exporter": "python",
   "pygments_lexer": "ipython3",
   "version": "3.12.3"
  }
 },
 "nbformat": 4,
 "nbformat_minor": 5
}
